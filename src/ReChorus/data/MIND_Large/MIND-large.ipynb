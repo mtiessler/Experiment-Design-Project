{
 "cells": [
  {
   "cell_type": "code",
   "id": "e47cdd78",
   "metadata": {
    "ExecuteTime": {
     "end_time": "2025-01-25T13:12:53.857539Z",
     "start_time": "2025-01-25T13:12:53.852769Z"
    }
   },
   "source": [
    "import numpy as np\n",
    "import pandas as pd\n",
    "import os\n",
    "import sys\n",
    "import zipfile\n",
    "import subprocess\n",
    "\n",
    "from matplotlib import pyplot as plt\n",
    "import seaborn as sns\n",
    "from datetime import datetime, timedelta\n",
    "from scipy import stats\n",
    "from tqdm.notebook import tqdm\n",
    "from copy import deepcopy\n",
    "\n",
    "import json"
   ],
   "outputs": [],
   "execution_count": 4
  },
  {
   "cell_type": "code",
   "id": "c251b774",
   "metadata": {
    "ExecuteTime": {
     "end_time": "2025-01-25T13:12:53.903877Z",
     "start_time": "2025-01-25T13:12:53.896874Z"
    }
   },
   "source": [
    "DATASET = 'MIND_large' \n",
    "RAW_PATH = os.path.join('..','..','..', '..', 'data', DATASET)\n",
    "\n",
    "RANDOM_SEED = 0\n",
    "NEG_ITEMS = 99"
   ],
   "outputs": [],
   "execution_count": 5
  },
  {
   "cell_type": "markdown",
   "id": "a441d7b0",
   "metadata": {},
   "source": [
    "# Load data\n",
    "\n",
    "1. Load interaction data and item metadata\n",
    "2. Filter out items with less than 5 interactions\n",
    "3. Calculate basic statistics"
   ]
  },
  {
   "cell_type": "code",
   "id": "47ed3175",
   "metadata": {
    "ExecuteTime": {
     "end_time": "2025-01-25T13:12:54.123871Z",
     "start_time": "2025-01-25T13:12:53.947876Z"
    }
   },
   "source": [
    "# Please download the training and validation set from https://msnews.github.io/\n",
    "# and copy MINDlarge.zip and MINDlarge_dev.zip to the *MIND_large* dir\n",
    "print('Unzip files...')\n",
    "f = zipfile.ZipFile(os.path.join(RAW_PATH,'MINDlarge.zip'),'r') \n",
    "os.makedirs(os.path.join(RAW_PATH,'train'),exist_ok=True)\n",
    "for file in f.namelist():\n",
    "    print(\"Extract %s\"%(file))\n",
    "    f.extract(file,os.path.join(RAW_PATH,'train'))\n",
    "f.close()"
   ],
   "outputs": [
    {
     "name": "stdout",
     "output_type": "stream",
     "text": [
      "Unzip files...\n"
     ]
    },
    {
     "ename": "FileNotFoundError",
     "evalue": "[Errno 2] No such file or directory: '..\\\\..\\\\..\\\\..\\\\MIND_large\\\\MINDlarge.zip'",
     "output_type": "error",
     "traceback": [
      "\u001B[1;31m---------------------------------------------------------------------------\u001B[0m",
      "\u001B[1;31mFileNotFoundError\u001B[0m                         Traceback (most recent call last)",
      "Cell \u001B[1;32mIn[6], line 4\u001B[0m\n\u001B[0;32m      1\u001B[0m \u001B[38;5;66;03m# Please download the training and validation set from https://msnews.github.io/\u001B[39;00m\n\u001B[0;32m      2\u001B[0m \u001B[38;5;66;03m# and copy MINDlarge.zip and MINDlarge_dev.zip to the *MIND_large* dir\u001B[39;00m\n\u001B[0;32m      3\u001B[0m \u001B[38;5;28mprint\u001B[39m(\u001B[38;5;124m'\u001B[39m\u001B[38;5;124mUnzip files...\u001B[39m\u001B[38;5;124m'\u001B[39m)\n\u001B[1;32m----> 4\u001B[0m f \u001B[38;5;241m=\u001B[39m \u001B[43mzipfile\u001B[49m\u001B[38;5;241;43m.\u001B[39;49m\u001B[43mZipFile\u001B[49m\u001B[43m(\u001B[49m\u001B[43mos\u001B[49m\u001B[38;5;241;43m.\u001B[39;49m\u001B[43mpath\u001B[49m\u001B[38;5;241;43m.\u001B[39;49m\u001B[43mjoin\u001B[49m\u001B[43m(\u001B[49m\u001B[43mRAW_PATH\u001B[49m\u001B[43m,\u001B[49m\u001B[38;5;124;43m'\u001B[39;49m\u001B[38;5;124;43mMINDlarge.zip\u001B[39;49m\u001B[38;5;124;43m'\u001B[39;49m\u001B[43m)\u001B[49m\u001B[43m,\u001B[49m\u001B[38;5;124;43m'\u001B[39;49m\u001B[38;5;124;43mr\u001B[39;49m\u001B[38;5;124;43m'\u001B[39;49m\u001B[43m)\u001B[49m \n\u001B[0;32m      5\u001B[0m os\u001B[38;5;241m.\u001B[39mmakedirs(os\u001B[38;5;241m.\u001B[39mpath\u001B[38;5;241m.\u001B[39mjoin(RAW_PATH,\u001B[38;5;124m'\u001B[39m\u001B[38;5;124mtrain\u001B[39m\u001B[38;5;124m'\u001B[39m),exist_ok\u001B[38;5;241m=\u001B[39m\u001B[38;5;28;01mTrue\u001B[39;00m)\n\u001B[0;32m      6\u001B[0m \u001B[38;5;28;01mfor\u001B[39;00m file \u001B[38;5;129;01min\u001B[39;00m f\u001B[38;5;241m.\u001B[39mnamelist():\n",
      "File \u001B[1;32m~\\AppData\\Local\\Programs\\Python\\Python39\\lib\\zipfile.py:1246\u001B[0m, in \u001B[0;36mZipFile.__init__\u001B[1;34m(self, file, mode, compression, allowZip64, compresslevel, strict_timestamps)\u001B[0m\n\u001B[0;32m   1244\u001B[0m \u001B[38;5;28;01mwhile\u001B[39;00m \u001B[38;5;28;01mTrue\u001B[39;00m:\n\u001B[0;32m   1245\u001B[0m     \u001B[38;5;28;01mtry\u001B[39;00m:\n\u001B[1;32m-> 1246\u001B[0m         \u001B[38;5;28mself\u001B[39m\u001B[38;5;241m.\u001B[39mfp \u001B[38;5;241m=\u001B[39m \u001B[43mio\u001B[49m\u001B[38;5;241;43m.\u001B[39;49m\u001B[43mopen\u001B[49m\u001B[43m(\u001B[49m\u001B[43mfile\u001B[49m\u001B[43m,\u001B[49m\u001B[43m \u001B[49m\u001B[43mfilemode\u001B[49m\u001B[43m)\u001B[49m\n\u001B[0;32m   1247\u001B[0m     \u001B[38;5;28;01mexcept\u001B[39;00m \u001B[38;5;167;01mOSError\u001B[39;00m:\n\u001B[0;32m   1248\u001B[0m         \u001B[38;5;28;01mif\u001B[39;00m filemode \u001B[38;5;129;01min\u001B[39;00m modeDict:\n",
      "\u001B[1;31mFileNotFoundError\u001B[0m: [Errno 2] No such file or directory: '..\\\\..\\\\..\\\\..\\\\MIND_large\\\\MINDlarge.zip'"
     ]
    }
   ],
   "execution_count": 6
  },
  {
   "cell_type": "code",
   "id": "8f3f22ee",
   "metadata": {},
   "source": [
    "f = zipfile.ZipFile(os.path.join(RAW_PATH,'MINDlarge_dev.zip'),'r') \n",
    "os.makedirs(os.path.join(RAW_PATH,'dev'),exist_ok=True)\n",
    "for file in f.namelist():\n",
    "    print(\"Extract %s\"%(file))\n",
    "    f.extract(file,os.path.join(RAW_PATH,'dev'))\n",
    "f.close()"
   ],
   "outputs": [],
   "execution_count": null
  },
  {
   "cell_type": "code",
   "id": "2bdf8ec2",
   "metadata": {
    "scrolled": true
   },
   "source": [
    "# read interaction data\n",
    "interactions = []\n",
    "user_freq, item_freq = dict(), dict()\n",
    "for d in [os.path.join(RAW_PATH,'train'),os.path.join(RAW_PATH,'dev')]:\n",
    "    file = os.path.join(d,\"behaviors.tsv\")\n",
    "    with open(file) as F:\n",
    "        for line in tqdm(F):\n",
    "            line = line.strip().split(\"\\t\")\n",
    "            sid, uid, time = line[0], line[1], line[2]\n",
    "            impressions = line[4].split(\" \")\n",
    "            for imp in impressions:\n",
    "                iid, label = imp.split(\"-\")\n",
    "                interactions.append([sid,uid,time,iid,label])\n",
    "                if int(label)==1:\n",
    "                    user_freq[uid] = user_freq.get(uid,0)+1\n",
    "                    item_freq[iid] = item_freq.get(iid,0)+1"
   ],
   "outputs": [],
   "execution_count": null
  },
  {
   "cell_type": "code",
   "id": "e8127286",
   "metadata": {},
   "source": [
    "interactions_original = interactions.copy()"
   ],
   "outputs": [],
   "execution_count": null
  },
  {
   "cell_type": "code",
   "id": "ef143018",
   "metadata": {
    "scrolled": true
   },
   "source": [
    "# 5-core filtering\n",
    "select_uid, select_iid = [],[]\n",
    "for u in user_freq:\n",
    "    if user_freq[u]>=5:\n",
    "        select_uid.append(u)\n",
    "for i in item_freq:\n",
    "    if item_freq[i]>=5:\n",
    "        select_iid.append(i)\n",
    "print(\"User: %d/%d, Item: %d/%d\"%(len(select_uid),len(user_freq),len(select_iid),len(item_freq)))\n",
    "\n",
    "while len(select_uid)<len(user_freq) or len(select_iid)<len(item_freq):\n",
    "    select_uid = set(select_uid)\n",
    "    select_iid = set(select_iid)\n",
    "    user_freq, item_freq = dict(), dict()\n",
    "    interactions_5core = []\n",
    "    for line in tqdm(interactions):\n",
    "        uid, iid, label = line[1], line[3], line[-1]\n",
    "        if uid in select_uid and iid in select_iid:\n",
    "            interactions_5core.append(line)\n",
    "            if int(label)==1:\n",
    "                user_freq[uid] = user_freq.get(uid,0)+1\n",
    "                item_freq[iid] = item_freq.get(iid,0)+1\n",
    "    interactions = interactions_5core\n",
    "    select_uid, select_iid = [],[]\n",
    "    for u in user_freq:\n",
    "        if user_freq[u]>=5:\n",
    "            select_uid.append(u)\n",
    "    for i in item_freq:\n",
    "        if item_freq[i]>=5:\n",
    "            select_iid.append(i)\n",
    "    print(\"User: %d/%d, Item: %d/%d\"%(len(select_uid),len(user_freq),len(select_iid),len(item_freq)))\n",
    "\n",
    "print(\"Selected Interactions: %d, Users: %d, Items: %d\"%(len(interactions),len(select_uid),len(select_iid)))"
   ],
   "outputs": [],
   "execution_count": null
  },
  {
   "cell_type": "code",
   "id": "6fe36067",
   "metadata": {},
   "source": [
    "# exclude illegal interactions\n",
    "for i in range(len(interactions)):\n",
    "    if len(interactions[i])>5:\n",
    "        interactions[i] = interactions[i][:-1]"
   ],
   "outputs": [],
   "execution_count": null
  },
  {
   "cell_type": "code",
   "id": "791906a8",
   "metadata": {},
   "source": [
    "# Get timestamp\n",
    "format_t = '%m/%d/%Y %I:%M:%S %p'\n",
    "ts, time = [], []\n",
    "for i in tqdm(range(len(interactions))):\n",
    "    t = datetime.strptime(interactions[i][2],format_t)\n",
    "    ts.append(t)\n",
    "    time.append(t.timestamp())"
   ],
   "outputs": [],
   "execution_count": null
  },
  {
   "cell_type": "code",
   "id": "9fd33b05",
   "metadata": {},
   "source": [
    "# Construct 5 core results with situation context\n",
    "interaction_df = pd.DataFrame(interactions,columns = [\"session_id\",\"user_id\",\"time_str\",\"news_id\",\"label\"])\n",
    "interaction_df['time'] = time\n",
    "interaction_df['timestamp'] = ts\n",
    "interaction_df['hour'] = interaction_df['timestamp'].apply(lambda x: x.hour)\n",
    "interaction_df['weekday'] = interaction_df['timestamp'].apply(lambda x: x.weekday())\n",
    "interaction_df['date'] = interaction_df['timestamp'].apply(lambda x: x.date())\n",
    "\n",
    "def get_time_range(hour): # according to the Britannica dictionary\n",
    "    # https://www.britannica.com/dictionary/eb/qa/parts-of-the-day-early-morning-late-morning-etc\n",
    "    if hour>=5 and hour<=8:\n",
    "        return 0\n",
    "    if hour>8 and hour<11:\n",
    "        return 1\n",
    "    if hour>=11 and hour<=12:\n",
    "        return 2\n",
    "    if hour>12 and hour<=15:\n",
    "        return 3\n",
    "    if hour>15 and hour<=17:\n",
    "        return 4\n",
    "    if hour>=18 and hour<=19:\n",
    "        return 5\n",
    "    if hour>19 and hour<=21:\n",
    "        return 6\n",
    "    if hour>21:\n",
    "        return 7\n",
    "    return 8 # 0-4 am\n",
    "\n",
    "interaction_df['period'] = interaction_df.hour.apply(lambda x: get_time_range(x))\n",
    "min_date = interaction_df.date.min()\n",
    "interaction_df['day'] = (interaction_df.date - min_date).apply(lambda x: x.days)"
   ],
   "outputs": [],
   "execution_count": null
  },
  {
   "cell_type": "code",
   "id": "52cf7136",
   "metadata": {
    "ExecuteTime": {
     "end_time": "2025-01-25T13:12:54.170875Z",
     "start_time": "2025-01-25T13:12:54.132870Z"
    }
   },
   "source": [
    "# Save 5-core interactions\n",
    "interaction_df.to_csv(\"interaction_5core.csv\",index=False)"
   ],
   "outputs": [
    {
     "ename": "NameError",
     "evalue": "name 'interaction_df' is not defined",
     "output_type": "error",
     "traceback": [
      "\u001B[1;31m---------------------------------------------------------------------------\u001B[0m",
      "\u001B[1;31mNameError\u001B[0m                                 Traceback (most recent call last)",
      "Cell \u001B[1;32mIn[7], line 2\u001B[0m\n\u001B[0;32m      1\u001B[0m \u001B[38;5;66;03m# Save 5-core interactions\u001B[39;00m\n\u001B[1;32m----> 2\u001B[0m \u001B[43minteraction_df\u001B[49m\u001B[38;5;241m.\u001B[39mto_csv(\u001B[38;5;124m\"\u001B[39m\u001B[38;5;124minteraction_5core.csv\u001B[39m\u001B[38;5;124m\"\u001B[39m,index\u001B[38;5;241m=\u001B[39m\u001B[38;5;28;01mFalse\u001B[39;00m)\n",
      "\u001B[1;31mNameError\u001B[0m: name 'interaction_df' is not defined"
     ]
    }
   ],
   "execution_count": 7
  },
  {
   "cell_type": "markdown",
   "id": "cee70fad",
   "metadata": {},
   "source": [
    "----\n",
    "# Prepare data for CTR & Reranking task\n",
    "\n",
    "1. Rename and organize all interaction features\n",
    "2. Split dataset into training, validation, and test; Save interaction files (same time indicates same impression)\n",
    "3. Organize item metadata"
   ]
  },
  {
   "cell_type": "code",
   "id": "eeb124c3",
   "metadata": {},
   "source": [
    "CTR_PATH='./MINDCTR/'\n",
    "os.makedirs(CTR_PATH,exist_ok=True)"
   ],
   "outputs": [],
   "execution_count": null
  },
  {
   "cell_type": "code",
   "id": "746ae500",
   "metadata": {
    "ExecuteTime": {
     "end_time": "2025-01-25T13:12:54.312873Z",
     "start_time": "2025-01-25T13:12:54.283874Z"
    }
   },
   "source": [
    "# copy interaction file, rename and re-id all features\n",
    "interaction_ctr = interaction_df.copy()\n",
    "interaction_ctr.rename(columns={'hour':'c_hour_c','weekday':'c_weekday_c','period':'c_period_c','day':'c_day_f',\n",
    "                              'user_id':'original_user_id'},\n",
    "                     inplace=True)\n",
    "user2newid_ctr = dict(zip(sorted(interaction_ctr.original_user_id.unique()), \n",
    "                      range(1,interaction_ctr.original_user_id.nunique()+1)))\n",
    "interaction_ctr['user_id'] = interaction_ctr.original_user_id.apply(lambda x: user2newid_ctr[x])\n",
    "\n",
    "item2newid_ctr = dict(zip(sorted(interaction_ctr.news_id.unique()), \n",
    "                      range(1,interaction_ctr.news_id.nunique()+1)))\n",
    "interaction_ctr['item_id'] = interaction_ctr['news_id'].apply(lambda x: item2newid_ctr[x])\n",
    "interaction_ctr.sort_values(by=['user_id','time'],inplace=True)\n",
    "interaction_ctr = interaction_ctr.reset_index(drop=True)\n",
    "\n",
    "json.dump(user2newid_ctr,open(os.path.join(CTR_PATH,\"user2newid.json\"),'w'))\n",
    "json.dump(item2newid_ctr,open(os.path.join(CTR_PATH,\"item2newid.json\"),'w'))"
   ],
   "outputs": [
    {
     "ename": "NameError",
     "evalue": "name 'interaction_df' is not defined",
     "output_type": "error",
     "traceback": [
      "\u001B[1;31m---------------------------------------------------------------------------\u001B[0m",
      "\u001B[1;31mNameError\u001B[0m                                 Traceback (most recent call last)",
      "Cell \u001B[1;32mIn[8], line 2\u001B[0m\n\u001B[0;32m      1\u001B[0m \u001B[38;5;66;03m# copy interaction file, rename and re-id all features\u001B[39;00m\n\u001B[1;32m----> 2\u001B[0m interaction_ctr \u001B[38;5;241m=\u001B[39m \u001B[43minteraction_df\u001B[49m\u001B[38;5;241m.\u001B[39mcopy()\n\u001B[0;32m      3\u001B[0m interaction_ctr\u001B[38;5;241m.\u001B[39mrename(columns\u001B[38;5;241m=\u001B[39m{\u001B[38;5;124m'\u001B[39m\u001B[38;5;124mhour\u001B[39m\u001B[38;5;124m'\u001B[39m:\u001B[38;5;124m'\u001B[39m\u001B[38;5;124mc_hour_c\u001B[39m\u001B[38;5;124m'\u001B[39m,\u001B[38;5;124m'\u001B[39m\u001B[38;5;124mweekday\u001B[39m\u001B[38;5;124m'\u001B[39m:\u001B[38;5;124m'\u001B[39m\u001B[38;5;124mc_weekday_c\u001B[39m\u001B[38;5;124m'\u001B[39m,\u001B[38;5;124m'\u001B[39m\u001B[38;5;124mperiod\u001B[39m\u001B[38;5;124m'\u001B[39m:\u001B[38;5;124m'\u001B[39m\u001B[38;5;124mc_period_c\u001B[39m\u001B[38;5;124m'\u001B[39m,\u001B[38;5;124m'\u001B[39m\u001B[38;5;124mday\u001B[39m\u001B[38;5;124m'\u001B[39m:\u001B[38;5;124m'\u001B[39m\u001B[38;5;124mc_day_f\u001B[39m\u001B[38;5;124m'\u001B[39m,\n\u001B[0;32m      4\u001B[0m                               \u001B[38;5;124m'\u001B[39m\u001B[38;5;124muser_id\u001B[39m\u001B[38;5;124m'\u001B[39m:\u001B[38;5;124m'\u001B[39m\u001B[38;5;124moriginal_user_id\u001B[39m\u001B[38;5;124m'\u001B[39m},\n\u001B[0;32m      5\u001B[0m                      inplace\u001B[38;5;241m=\u001B[39m\u001B[38;5;28;01mTrue\u001B[39;00m)\n\u001B[0;32m      6\u001B[0m user2newid_ctr \u001B[38;5;241m=\u001B[39m \u001B[38;5;28mdict\u001B[39m(\u001B[38;5;28mzip\u001B[39m(\u001B[38;5;28msorted\u001B[39m(interaction_ctr\u001B[38;5;241m.\u001B[39moriginal_user_id\u001B[38;5;241m.\u001B[39munique()), \n\u001B[0;32m      7\u001B[0m                       \u001B[38;5;28mrange\u001B[39m(\u001B[38;5;241m1\u001B[39m,interaction_ctr\u001B[38;5;241m.\u001B[39moriginal_user_id\u001B[38;5;241m.\u001B[39mnunique()\u001B[38;5;241m+\u001B[39m\u001B[38;5;241m1\u001B[39m)))\n",
      "\u001B[1;31mNameError\u001B[0m: name 'interaction_df' is not defined"
     ]
    }
   ],
   "execution_count": 8
  },
  {
   "cell_type": "code",
   "id": "022c3d8b",
   "metadata": {
    "scrolled": true,
    "ExecuteTime": {
     "end_time": "2025-01-25T13:12:54.343873Z",
     "start_time": "2025-01-25T13:12:54.317875Z"
    }
   },
   "source": [
    "# Count statistics\n",
    "for col in interaction_ctr.columns:\n",
    "    if col in ['user_id','item_id'] or col.startswith('c_'):\n",
    "        print(col, interaction_ctr[col].nunique())"
   ],
   "outputs": [
    {
     "ename": "NameError",
     "evalue": "name 'interaction_ctr' is not defined",
     "output_type": "error",
     "traceback": [
      "\u001B[1;31m---------------------------------------------------------------------------\u001B[0m",
      "\u001B[1;31mNameError\u001B[0m                                 Traceback (most recent call last)",
      "Cell \u001B[1;32mIn[9], line 2\u001B[0m\n\u001B[0;32m      1\u001B[0m \u001B[38;5;66;03m# Count statistics\u001B[39;00m\n\u001B[1;32m----> 2\u001B[0m \u001B[38;5;28;01mfor\u001B[39;00m col \u001B[38;5;129;01min\u001B[39;00m \u001B[43minteraction_ctr\u001B[49m\u001B[38;5;241m.\u001B[39mcolumns:\n\u001B[0;32m      3\u001B[0m     \u001B[38;5;28;01mif\u001B[39;00m col \u001B[38;5;129;01min\u001B[39;00m [\u001B[38;5;124m'\u001B[39m\u001B[38;5;124muser_id\u001B[39m\u001B[38;5;124m'\u001B[39m,\u001B[38;5;124m'\u001B[39m\u001B[38;5;124mitem_id\u001B[39m\u001B[38;5;124m'\u001B[39m] \u001B[38;5;129;01mor\u001B[39;00m col\u001B[38;5;241m.\u001B[39mstartswith(\u001B[38;5;124m'\u001B[39m\u001B[38;5;124mc_\u001B[39m\u001B[38;5;124m'\u001B[39m):\n\u001B[0;32m      4\u001B[0m         \u001B[38;5;28mprint\u001B[39m(col, interaction_ctr[col]\u001B[38;5;241m.\u001B[39mnunique())\n",
      "\u001B[1;31mNameError\u001B[0m: name 'interaction_ctr' is not defined"
     ]
    }
   ],
   "execution_count": 9
  },
  {
   "cell_type": "code",
   "id": "5a65c78a",
   "metadata": {
    "ExecuteTime": {
     "end_time": "2025-01-25T13:12:54.404872Z",
     "start_time": "2025-01-25T13:12:54.373871Z"
    }
   },
   "source": [
    "# split training, validation, and test sets.\n",
    "split_time1 = 5\n",
    "train = interaction_ctr.loc[interaction_ctr.c_day_f<=split_time1].copy()\n",
    "val_test = interaction_ctr.loc[(interaction_ctr.c_day_f>split_time1)].copy()\n",
    "val_test.sort_values(by='time',inplace=True)\n",
    "sessionbyTime = []\n",
    "last_s = -1\n",
    "for s in val_test.session_id:\n",
    "    if s!=last_s:\n",
    "        sessionbyTime.append(s)\n",
    "        last_s = s\n",
    "val = val_test.loc[val_test.session_id.isin(sessionbyTime[:len(sessionbyTime)//2])].copy()\n",
    "test = val_test.loc[val_test.session_id.isin(sessionbyTime[len(sessionbyTime)//2:])].copy()\n",
    "\n",
    "# Delete user&item in validation&test sets that not exist in training set\n",
    "train_u, train_i = set(train.user_id.unique()), set(train.item_id.unique())\n",
    "val_sel = val.loc[(val.user_id.isin(train_u))&(val.item_id.isin(train_i))].copy()\n",
    "test_sel = test.loc[(test.user_id.isin(train_u))&(test.item_id.isin(train_i))].copy()\n",
    "print(\"Train user: %d, item: %d\"%(len(train_u),len(train_i)))\n",
    "print(\"Validation user: %d, item:%d\"%(val_sel.user_id.nunique(),val_sel.item_id.nunique()))\n",
    "print(\"Test user: %d, item:%d\"%(test_sel.user_id.nunique(),test_sel.item_id.nunique()))"
   ],
   "outputs": [
    {
     "ename": "NameError",
     "evalue": "name 'interaction_ctr' is not defined",
     "output_type": "error",
     "traceback": [
      "\u001B[1;31m---------------------------------------------------------------------------\u001B[0m",
      "\u001B[1;31mNameError\u001B[0m                                 Traceback (most recent call last)",
      "Cell \u001B[1;32mIn[10], line 3\u001B[0m\n\u001B[0;32m      1\u001B[0m \u001B[38;5;66;03m# split training, validation, and test sets.\u001B[39;00m\n\u001B[0;32m      2\u001B[0m split_time1 \u001B[38;5;241m=\u001B[39m \u001B[38;5;241m5\u001B[39m\n\u001B[1;32m----> 3\u001B[0m train \u001B[38;5;241m=\u001B[39m \u001B[43minteraction_ctr\u001B[49m\u001B[38;5;241m.\u001B[39mloc[interaction_ctr\u001B[38;5;241m.\u001B[39mc_day_f\u001B[38;5;241m<\u001B[39m\u001B[38;5;241m=\u001B[39msplit_time1]\u001B[38;5;241m.\u001B[39mcopy()\n\u001B[0;32m      4\u001B[0m val_test \u001B[38;5;241m=\u001B[39m interaction_ctr\u001B[38;5;241m.\u001B[39mloc[(interaction_ctr\u001B[38;5;241m.\u001B[39mc_day_f\u001B[38;5;241m>\u001B[39msplit_time1)]\u001B[38;5;241m.\u001B[39mcopy()\n\u001B[0;32m      5\u001B[0m val_test\u001B[38;5;241m.\u001B[39msort_values(by\u001B[38;5;241m=\u001B[39m\u001B[38;5;124m'\u001B[39m\u001B[38;5;124mtime\u001B[39m\u001B[38;5;124m'\u001B[39m,inplace\u001B[38;5;241m=\u001B[39m\u001B[38;5;28;01mTrue\u001B[39;00m)\n",
      "\u001B[1;31mNameError\u001B[0m: name 'interaction_ctr' is not defined"
     ]
    }
   ],
   "execution_count": 10
  },
  {
   "cell_type": "code",
   "id": "85cf4bb8",
   "metadata": {
    "ExecuteTime": {
     "end_time": "2025-01-25T13:12:54.435872Z",
     "start_time": "2025-01-25T13:12:54.408872Z"
    }
   },
   "source": [
    "# Save interaction data\n",
    "select_columns = ['user_id','item_id','time','label','c_hour_c','c_weekday_c','c_period_c','c_day_f']\n",
    "train[select_columns].to_csv(os.path.join(CTR_PATH,'train.csv'),sep=\"\\t\",index=False)\n",
    "val_sel[select_columns].to_csv(os.path.join(CTR_PATH,'dev.csv'),sep=\"\\t\",index=False)\n",
    "test_sel[select_columns].to_csv(os.path.join(CTR_PATH,'test.csv'),sep=\"\\t\",index=False)"
   ],
   "outputs": [
    {
     "ename": "NameError",
     "evalue": "name 'train' is not defined",
     "output_type": "error",
     "traceback": [
      "\u001B[1;31m---------------------------------------------------------------------------\u001B[0m",
      "\u001B[1;31mNameError\u001B[0m                                 Traceback (most recent call last)",
      "Cell \u001B[1;32mIn[11], line 3\u001B[0m\n\u001B[0;32m      1\u001B[0m \u001B[38;5;66;03m# Save interaction data\u001B[39;00m\n\u001B[0;32m      2\u001B[0m select_columns \u001B[38;5;241m=\u001B[39m [\u001B[38;5;124m'\u001B[39m\u001B[38;5;124muser_id\u001B[39m\u001B[38;5;124m'\u001B[39m,\u001B[38;5;124m'\u001B[39m\u001B[38;5;124mitem_id\u001B[39m\u001B[38;5;124m'\u001B[39m,\u001B[38;5;124m'\u001B[39m\u001B[38;5;124mtime\u001B[39m\u001B[38;5;124m'\u001B[39m,\u001B[38;5;124m'\u001B[39m\u001B[38;5;124mlabel\u001B[39m\u001B[38;5;124m'\u001B[39m,\u001B[38;5;124m'\u001B[39m\u001B[38;5;124mc_hour_c\u001B[39m\u001B[38;5;124m'\u001B[39m,\u001B[38;5;124m'\u001B[39m\u001B[38;5;124mc_weekday_c\u001B[39m\u001B[38;5;124m'\u001B[39m,\u001B[38;5;124m'\u001B[39m\u001B[38;5;124mc_period_c\u001B[39m\u001B[38;5;124m'\u001B[39m,\u001B[38;5;124m'\u001B[39m\u001B[38;5;124mc_day_f\u001B[39m\u001B[38;5;124m'\u001B[39m]\n\u001B[1;32m----> 3\u001B[0m \u001B[43mtrain\u001B[49m[select_columns]\u001B[38;5;241m.\u001B[39mto_csv(os\u001B[38;5;241m.\u001B[39mpath\u001B[38;5;241m.\u001B[39mjoin(CTR_PATH,\u001B[38;5;124m'\u001B[39m\u001B[38;5;124mtrain.csv\u001B[39m\u001B[38;5;124m'\u001B[39m),sep\u001B[38;5;241m=\u001B[39m\u001B[38;5;124m\"\u001B[39m\u001B[38;5;130;01m\\t\u001B[39;00m\u001B[38;5;124m\"\u001B[39m,index\u001B[38;5;241m=\u001B[39m\u001B[38;5;28;01mFalse\u001B[39;00m)\n\u001B[0;32m      4\u001B[0m val_sel[select_columns]\u001B[38;5;241m.\u001B[39mto_csv(os\u001B[38;5;241m.\u001B[39mpath\u001B[38;5;241m.\u001B[39mjoin(CTR_PATH,\u001B[38;5;124m'\u001B[39m\u001B[38;5;124mdev.csv\u001B[39m\u001B[38;5;124m'\u001B[39m),sep\u001B[38;5;241m=\u001B[39m\u001B[38;5;124m\"\u001B[39m\u001B[38;5;130;01m\\t\u001B[39;00m\u001B[38;5;124m\"\u001B[39m,index\u001B[38;5;241m=\u001B[39m\u001B[38;5;28;01mFalse\u001B[39;00m)\n\u001B[0;32m      5\u001B[0m test_sel[select_columns]\u001B[38;5;241m.\u001B[39mto_csv(os\u001B[38;5;241m.\u001B[39mpath\u001B[38;5;241m.\u001B[39mjoin(CTR_PATH,\u001B[38;5;124m'\u001B[39m\u001B[38;5;124mtest.csv\u001B[39m\u001B[38;5;124m'\u001B[39m),sep\u001B[38;5;241m=\u001B[39m\u001B[38;5;124m\"\u001B[39m\u001B[38;5;130;01m\\t\u001B[39;00m\u001B[38;5;124m\"\u001B[39m,index\u001B[38;5;241m=\u001B[39m\u001B[38;5;28;01mFalse\u001B[39;00m)\n",
      "\u001B[1;31mNameError\u001B[0m: name 'train' is not defined"
     ]
    }
   ],
   "execution_count": 11
  },
  {
   "cell_type": "code",
   "id": "c97e990d",
   "metadata": {
    "ExecuteTime": {
     "end_time": "2025-01-25T13:12:54.872873Z",
     "start_time": "2025-01-25T13:12:54.465876Z"
    }
   },
   "source": [
    "# organize & save item metadata\n",
    "item_meta_train = pd.read_csv(os.path.join(RAW_PATH,'train',\"news.tsv\"),sep=\"\\t\",header=None)\n",
    "item_meta_train.columns = ['news_id','category','subcategory','title','abstract','url','title_entitiy','abstract_entity']\n",
    "item_select = item_meta_train.loc[item_meta_train.news_id.isin(interaction_ctr.news_id.unique())].copy()\n",
    "item_select['item_id'] = item_select.news_id.apply(lambda x: item2newid_ctr[x])\n",
    "category2id = dict(zip(sorted(item_select.category.unique()),range(1,item_select.category.nunique()+1)))\n",
    "subcategory2id = dict(zip(sorted(item_select.subcategory.unique()),range(1,item_select.subcategory.nunique()+1)))\n",
    "item_select['i_category_c'] = item_select['category'].apply(lambda x: category2id[x])\n",
    "item_select['i_subcategory_c'] = item_select['subcategory'].apply(lambda x: subcategory2id[x])\n",
    "item_select[['item_id','i_category_c','i_subcategory_c']].to_csv(\n",
    "    os.path.join(CTR_PATH,'item_meta.csv'),sep=\"\\t\",index=False)"
   ],
   "outputs": [
    {
     "ename": "FileNotFoundError",
     "evalue": "[Errno 2] No such file or directory: '..\\\\..\\\\..\\\\..\\\\MIND_large\\\\train\\\\news.tsv'",
     "output_type": "error",
     "traceback": [
      "\u001B[1;31m---------------------------------------------------------------------------\u001B[0m",
      "\u001B[1;31mFileNotFoundError\u001B[0m                         Traceback (most recent call last)",
      "Cell \u001B[1;32mIn[12], line 2\u001B[0m\n\u001B[0;32m      1\u001B[0m \u001B[38;5;66;03m# organize & save item metadata\u001B[39;00m\n\u001B[1;32m----> 2\u001B[0m item_meta_train \u001B[38;5;241m=\u001B[39m \u001B[43mpd\u001B[49m\u001B[38;5;241;43m.\u001B[39;49m\u001B[43mread_csv\u001B[49m\u001B[43m(\u001B[49m\u001B[43mos\u001B[49m\u001B[38;5;241;43m.\u001B[39;49m\u001B[43mpath\u001B[49m\u001B[38;5;241;43m.\u001B[39;49m\u001B[43mjoin\u001B[49m\u001B[43m(\u001B[49m\u001B[43mRAW_PATH\u001B[49m\u001B[43m,\u001B[49m\u001B[38;5;124;43m'\u001B[39;49m\u001B[38;5;124;43mtrain\u001B[39;49m\u001B[38;5;124;43m'\u001B[39;49m\u001B[43m,\u001B[49m\u001B[38;5;124;43m\"\u001B[39;49m\u001B[38;5;124;43mnews.tsv\u001B[39;49m\u001B[38;5;124;43m\"\u001B[39;49m\u001B[43m)\u001B[49m\u001B[43m,\u001B[49m\u001B[43msep\u001B[49m\u001B[38;5;241;43m=\u001B[39;49m\u001B[38;5;124;43m\"\u001B[39;49m\u001B[38;5;130;43;01m\\t\u001B[39;49;00m\u001B[38;5;124;43m\"\u001B[39;49m\u001B[43m,\u001B[49m\u001B[43mheader\u001B[49m\u001B[38;5;241;43m=\u001B[39;49m\u001B[38;5;28;43;01mNone\u001B[39;49;00m\u001B[43m)\u001B[49m\n\u001B[0;32m      3\u001B[0m item_meta_train\u001B[38;5;241m.\u001B[39mcolumns \u001B[38;5;241m=\u001B[39m [\u001B[38;5;124m'\u001B[39m\u001B[38;5;124mnews_id\u001B[39m\u001B[38;5;124m'\u001B[39m,\u001B[38;5;124m'\u001B[39m\u001B[38;5;124mcategory\u001B[39m\u001B[38;5;124m'\u001B[39m,\u001B[38;5;124m'\u001B[39m\u001B[38;5;124msubcategory\u001B[39m\u001B[38;5;124m'\u001B[39m,\u001B[38;5;124m'\u001B[39m\u001B[38;5;124mtitle\u001B[39m\u001B[38;5;124m'\u001B[39m,\u001B[38;5;124m'\u001B[39m\u001B[38;5;124mabstract\u001B[39m\u001B[38;5;124m'\u001B[39m,\u001B[38;5;124m'\u001B[39m\u001B[38;5;124murl\u001B[39m\u001B[38;5;124m'\u001B[39m,\u001B[38;5;124m'\u001B[39m\u001B[38;5;124mtitle_entitiy\u001B[39m\u001B[38;5;124m'\u001B[39m,\u001B[38;5;124m'\u001B[39m\u001B[38;5;124mabstract_entity\u001B[39m\u001B[38;5;124m'\u001B[39m]\n\u001B[0;32m      4\u001B[0m item_select \u001B[38;5;241m=\u001B[39m item_meta_train\u001B[38;5;241m.\u001B[39mloc[item_meta_train\u001B[38;5;241m.\u001B[39mnews_id\u001B[38;5;241m.\u001B[39misin(interaction_ctr\u001B[38;5;241m.\u001B[39mnews_id\u001B[38;5;241m.\u001B[39munique())]\u001B[38;5;241m.\u001B[39mcopy()\n",
      "File \u001B[1;32m~\\Experiment-Design-Project\\venv\\lib\\site-packages\\pandas\\io\\parsers\\readers.py:1026\u001B[0m, in \u001B[0;36mread_csv\u001B[1;34m(filepath_or_buffer, sep, delimiter, header, names, index_col, usecols, dtype, engine, converters, true_values, false_values, skipinitialspace, skiprows, skipfooter, nrows, na_values, keep_default_na, na_filter, verbose, skip_blank_lines, parse_dates, infer_datetime_format, keep_date_col, date_parser, date_format, dayfirst, cache_dates, iterator, chunksize, compression, thousands, decimal, lineterminator, quotechar, quoting, doublequote, escapechar, comment, encoding, encoding_errors, dialect, on_bad_lines, delim_whitespace, low_memory, memory_map, float_precision, storage_options, dtype_backend)\u001B[0m\n\u001B[0;32m   1013\u001B[0m kwds_defaults \u001B[38;5;241m=\u001B[39m _refine_defaults_read(\n\u001B[0;32m   1014\u001B[0m     dialect,\n\u001B[0;32m   1015\u001B[0m     delimiter,\n\u001B[1;32m   (...)\u001B[0m\n\u001B[0;32m   1022\u001B[0m     dtype_backend\u001B[38;5;241m=\u001B[39mdtype_backend,\n\u001B[0;32m   1023\u001B[0m )\n\u001B[0;32m   1024\u001B[0m kwds\u001B[38;5;241m.\u001B[39mupdate(kwds_defaults)\n\u001B[1;32m-> 1026\u001B[0m \u001B[38;5;28;01mreturn\u001B[39;00m \u001B[43m_read\u001B[49m\u001B[43m(\u001B[49m\u001B[43mfilepath_or_buffer\u001B[49m\u001B[43m,\u001B[49m\u001B[43m \u001B[49m\u001B[43mkwds\u001B[49m\u001B[43m)\u001B[49m\n",
      "File \u001B[1;32m~\\Experiment-Design-Project\\venv\\lib\\site-packages\\pandas\\io\\parsers\\readers.py:620\u001B[0m, in \u001B[0;36m_read\u001B[1;34m(filepath_or_buffer, kwds)\u001B[0m\n\u001B[0;32m    617\u001B[0m _validate_names(kwds\u001B[38;5;241m.\u001B[39mget(\u001B[38;5;124m\"\u001B[39m\u001B[38;5;124mnames\u001B[39m\u001B[38;5;124m\"\u001B[39m, \u001B[38;5;28;01mNone\u001B[39;00m))\n\u001B[0;32m    619\u001B[0m \u001B[38;5;66;03m# Create the parser.\u001B[39;00m\n\u001B[1;32m--> 620\u001B[0m parser \u001B[38;5;241m=\u001B[39m TextFileReader(filepath_or_buffer, \u001B[38;5;241m*\u001B[39m\u001B[38;5;241m*\u001B[39mkwds)\n\u001B[0;32m    622\u001B[0m \u001B[38;5;28;01mif\u001B[39;00m chunksize \u001B[38;5;129;01mor\u001B[39;00m iterator:\n\u001B[0;32m    623\u001B[0m     \u001B[38;5;28;01mreturn\u001B[39;00m parser\n",
      "File \u001B[1;32m~\\Experiment-Design-Project\\venv\\lib\\site-packages\\pandas\\io\\parsers\\readers.py:1620\u001B[0m, in \u001B[0;36mTextFileReader.__init__\u001B[1;34m(self, f, engine, **kwds)\u001B[0m\n\u001B[0;32m   1617\u001B[0m     \u001B[38;5;28mself\u001B[39m\u001B[38;5;241m.\u001B[39moptions[\u001B[38;5;124m\"\u001B[39m\u001B[38;5;124mhas_index_names\u001B[39m\u001B[38;5;124m\"\u001B[39m] \u001B[38;5;241m=\u001B[39m kwds[\u001B[38;5;124m\"\u001B[39m\u001B[38;5;124mhas_index_names\u001B[39m\u001B[38;5;124m\"\u001B[39m]\n\u001B[0;32m   1619\u001B[0m \u001B[38;5;28mself\u001B[39m\u001B[38;5;241m.\u001B[39mhandles: IOHandles \u001B[38;5;241m|\u001B[39m \u001B[38;5;28;01mNone\u001B[39;00m \u001B[38;5;241m=\u001B[39m \u001B[38;5;28;01mNone\u001B[39;00m\n\u001B[1;32m-> 1620\u001B[0m \u001B[38;5;28mself\u001B[39m\u001B[38;5;241m.\u001B[39m_engine \u001B[38;5;241m=\u001B[39m \u001B[38;5;28;43mself\u001B[39;49m\u001B[38;5;241;43m.\u001B[39;49m\u001B[43m_make_engine\u001B[49m\u001B[43m(\u001B[49m\u001B[43mf\u001B[49m\u001B[43m,\u001B[49m\u001B[43m \u001B[49m\u001B[38;5;28;43mself\u001B[39;49m\u001B[38;5;241;43m.\u001B[39;49m\u001B[43mengine\u001B[49m\u001B[43m)\u001B[49m\n",
      "File \u001B[1;32m~\\Experiment-Design-Project\\venv\\lib\\site-packages\\pandas\\io\\parsers\\readers.py:1880\u001B[0m, in \u001B[0;36mTextFileReader._make_engine\u001B[1;34m(self, f, engine)\u001B[0m\n\u001B[0;32m   1878\u001B[0m     \u001B[38;5;28;01mif\u001B[39;00m \u001B[38;5;124m\"\u001B[39m\u001B[38;5;124mb\u001B[39m\u001B[38;5;124m\"\u001B[39m \u001B[38;5;129;01mnot\u001B[39;00m \u001B[38;5;129;01min\u001B[39;00m mode:\n\u001B[0;32m   1879\u001B[0m         mode \u001B[38;5;241m+\u001B[39m\u001B[38;5;241m=\u001B[39m \u001B[38;5;124m\"\u001B[39m\u001B[38;5;124mb\u001B[39m\u001B[38;5;124m\"\u001B[39m\n\u001B[1;32m-> 1880\u001B[0m \u001B[38;5;28mself\u001B[39m\u001B[38;5;241m.\u001B[39mhandles \u001B[38;5;241m=\u001B[39m \u001B[43mget_handle\u001B[49m\u001B[43m(\u001B[49m\n\u001B[0;32m   1881\u001B[0m \u001B[43m    \u001B[49m\u001B[43mf\u001B[49m\u001B[43m,\u001B[49m\n\u001B[0;32m   1882\u001B[0m \u001B[43m    \u001B[49m\u001B[43mmode\u001B[49m\u001B[43m,\u001B[49m\n\u001B[0;32m   1883\u001B[0m \u001B[43m    \u001B[49m\u001B[43mencoding\u001B[49m\u001B[38;5;241;43m=\u001B[39;49m\u001B[38;5;28;43mself\u001B[39;49m\u001B[38;5;241;43m.\u001B[39;49m\u001B[43moptions\u001B[49m\u001B[38;5;241;43m.\u001B[39;49m\u001B[43mget\u001B[49m\u001B[43m(\u001B[49m\u001B[38;5;124;43m\"\u001B[39;49m\u001B[38;5;124;43mencoding\u001B[39;49m\u001B[38;5;124;43m\"\u001B[39;49m\u001B[43m,\u001B[49m\u001B[43m \u001B[49m\u001B[38;5;28;43;01mNone\u001B[39;49;00m\u001B[43m)\u001B[49m\u001B[43m,\u001B[49m\n\u001B[0;32m   1884\u001B[0m \u001B[43m    \u001B[49m\u001B[43mcompression\u001B[49m\u001B[38;5;241;43m=\u001B[39;49m\u001B[38;5;28;43mself\u001B[39;49m\u001B[38;5;241;43m.\u001B[39;49m\u001B[43moptions\u001B[49m\u001B[38;5;241;43m.\u001B[39;49m\u001B[43mget\u001B[49m\u001B[43m(\u001B[49m\u001B[38;5;124;43m\"\u001B[39;49m\u001B[38;5;124;43mcompression\u001B[39;49m\u001B[38;5;124;43m\"\u001B[39;49m\u001B[43m,\u001B[49m\u001B[43m \u001B[49m\u001B[38;5;28;43;01mNone\u001B[39;49;00m\u001B[43m)\u001B[49m\u001B[43m,\u001B[49m\n\u001B[0;32m   1885\u001B[0m \u001B[43m    \u001B[49m\u001B[43mmemory_map\u001B[49m\u001B[38;5;241;43m=\u001B[39;49m\u001B[38;5;28;43mself\u001B[39;49m\u001B[38;5;241;43m.\u001B[39;49m\u001B[43moptions\u001B[49m\u001B[38;5;241;43m.\u001B[39;49m\u001B[43mget\u001B[49m\u001B[43m(\u001B[49m\u001B[38;5;124;43m\"\u001B[39;49m\u001B[38;5;124;43mmemory_map\u001B[39;49m\u001B[38;5;124;43m\"\u001B[39;49m\u001B[43m,\u001B[49m\u001B[43m \u001B[49m\u001B[38;5;28;43;01mFalse\u001B[39;49;00m\u001B[43m)\u001B[49m\u001B[43m,\u001B[49m\n\u001B[0;32m   1886\u001B[0m \u001B[43m    \u001B[49m\u001B[43mis_text\u001B[49m\u001B[38;5;241;43m=\u001B[39;49m\u001B[43mis_text\u001B[49m\u001B[43m,\u001B[49m\n\u001B[0;32m   1887\u001B[0m \u001B[43m    \u001B[49m\u001B[43merrors\u001B[49m\u001B[38;5;241;43m=\u001B[39;49m\u001B[38;5;28;43mself\u001B[39;49m\u001B[38;5;241;43m.\u001B[39;49m\u001B[43moptions\u001B[49m\u001B[38;5;241;43m.\u001B[39;49m\u001B[43mget\u001B[49m\u001B[43m(\u001B[49m\u001B[38;5;124;43m\"\u001B[39;49m\u001B[38;5;124;43mencoding_errors\u001B[39;49m\u001B[38;5;124;43m\"\u001B[39;49m\u001B[43m,\u001B[49m\u001B[43m \u001B[49m\u001B[38;5;124;43m\"\u001B[39;49m\u001B[38;5;124;43mstrict\u001B[39;49m\u001B[38;5;124;43m\"\u001B[39;49m\u001B[43m)\u001B[49m\u001B[43m,\u001B[49m\n\u001B[0;32m   1888\u001B[0m \u001B[43m    \u001B[49m\u001B[43mstorage_options\u001B[49m\u001B[38;5;241;43m=\u001B[39;49m\u001B[38;5;28;43mself\u001B[39;49m\u001B[38;5;241;43m.\u001B[39;49m\u001B[43moptions\u001B[49m\u001B[38;5;241;43m.\u001B[39;49m\u001B[43mget\u001B[49m\u001B[43m(\u001B[49m\u001B[38;5;124;43m\"\u001B[39;49m\u001B[38;5;124;43mstorage_options\u001B[39;49m\u001B[38;5;124;43m\"\u001B[39;49m\u001B[43m,\u001B[49m\u001B[43m \u001B[49m\u001B[38;5;28;43;01mNone\u001B[39;49;00m\u001B[43m)\u001B[49m\u001B[43m,\u001B[49m\n\u001B[0;32m   1889\u001B[0m \u001B[43m\u001B[49m\u001B[43m)\u001B[49m\n\u001B[0;32m   1890\u001B[0m \u001B[38;5;28;01massert\u001B[39;00m \u001B[38;5;28mself\u001B[39m\u001B[38;5;241m.\u001B[39mhandles \u001B[38;5;129;01mis\u001B[39;00m \u001B[38;5;129;01mnot\u001B[39;00m \u001B[38;5;28;01mNone\u001B[39;00m\n\u001B[0;32m   1891\u001B[0m f \u001B[38;5;241m=\u001B[39m \u001B[38;5;28mself\u001B[39m\u001B[38;5;241m.\u001B[39mhandles\u001B[38;5;241m.\u001B[39mhandle\n",
      "File \u001B[1;32m~\\Experiment-Design-Project\\venv\\lib\\site-packages\\pandas\\io\\common.py:873\u001B[0m, in \u001B[0;36mget_handle\u001B[1;34m(path_or_buf, mode, encoding, compression, memory_map, is_text, errors, storage_options)\u001B[0m\n\u001B[0;32m    868\u001B[0m \u001B[38;5;28;01melif\u001B[39;00m \u001B[38;5;28misinstance\u001B[39m(handle, \u001B[38;5;28mstr\u001B[39m):\n\u001B[0;32m    869\u001B[0m     \u001B[38;5;66;03m# Check whether the filename is to be opened in binary mode.\u001B[39;00m\n\u001B[0;32m    870\u001B[0m     \u001B[38;5;66;03m# Binary mode does not support 'encoding' and 'newline'.\u001B[39;00m\n\u001B[0;32m    871\u001B[0m     \u001B[38;5;28;01mif\u001B[39;00m ioargs\u001B[38;5;241m.\u001B[39mencoding \u001B[38;5;129;01mand\u001B[39;00m \u001B[38;5;124m\"\u001B[39m\u001B[38;5;124mb\u001B[39m\u001B[38;5;124m\"\u001B[39m \u001B[38;5;129;01mnot\u001B[39;00m \u001B[38;5;129;01min\u001B[39;00m ioargs\u001B[38;5;241m.\u001B[39mmode:\n\u001B[0;32m    872\u001B[0m         \u001B[38;5;66;03m# Encoding\u001B[39;00m\n\u001B[1;32m--> 873\u001B[0m         handle \u001B[38;5;241m=\u001B[39m \u001B[38;5;28;43mopen\u001B[39;49m\u001B[43m(\u001B[49m\n\u001B[0;32m    874\u001B[0m \u001B[43m            \u001B[49m\u001B[43mhandle\u001B[49m\u001B[43m,\u001B[49m\n\u001B[0;32m    875\u001B[0m \u001B[43m            \u001B[49m\u001B[43mioargs\u001B[49m\u001B[38;5;241;43m.\u001B[39;49m\u001B[43mmode\u001B[49m\u001B[43m,\u001B[49m\n\u001B[0;32m    876\u001B[0m \u001B[43m            \u001B[49m\u001B[43mencoding\u001B[49m\u001B[38;5;241;43m=\u001B[39;49m\u001B[43mioargs\u001B[49m\u001B[38;5;241;43m.\u001B[39;49m\u001B[43mencoding\u001B[49m\u001B[43m,\u001B[49m\n\u001B[0;32m    877\u001B[0m \u001B[43m            \u001B[49m\u001B[43merrors\u001B[49m\u001B[38;5;241;43m=\u001B[39;49m\u001B[43merrors\u001B[49m\u001B[43m,\u001B[49m\n\u001B[0;32m    878\u001B[0m \u001B[43m            \u001B[49m\u001B[43mnewline\u001B[49m\u001B[38;5;241;43m=\u001B[39;49m\u001B[38;5;124;43m\"\u001B[39;49m\u001B[38;5;124;43m\"\u001B[39;49m\u001B[43m,\u001B[49m\n\u001B[0;32m    879\u001B[0m \u001B[43m        \u001B[49m\u001B[43m)\u001B[49m\n\u001B[0;32m    880\u001B[0m     \u001B[38;5;28;01melse\u001B[39;00m:\n\u001B[0;32m    881\u001B[0m         \u001B[38;5;66;03m# Binary mode\u001B[39;00m\n\u001B[0;32m    882\u001B[0m         handle \u001B[38;5;241m=\u001B[39m \u001B[38;5;28mopen\u001B[39m(handle, ioargs\u001B[38;5;241m.\u001B[39mmode)\n",
      "\u001B[1;31mFileNotFoundError\u001B[0m: [Errno 2] No such file or directory: '..\\\\..\\\\..\\\\..\\\\MIND_large\\\\train\\\\news.tsv'"
     ]
    }
   ],
   "execution_count": 12
  },
  {
   "cell_type": "markdown",
   "id": "59eaf159",
   "metadata": {},
   "source": [
    "# Prepare data for Top-k Recommendation Task\n",
    "1. Rename all interaction features\n",
    "2. Split dataset into training, validation, and test\n",
    "3. Re-assign IDs to user, item, and context; Save interaction files\n",
    "4. Organize item metadata"
   ]
  },
  {
   "cell_type": "code",
   "id": "56e4bbe5",
   "metadata": {},
   "source": [
    "TOPK_PATH='./MINDTOPK/'\n",
    "os.makedirs(TOPK_PATH,exist_ok=True)"
   ],
   "outputs": [],
   "execution_count": null
  },
  {
   "cell_type": "code",
   "id": "a8aadb00",
   "metadata": {},
   "source": [
    "interaction_df = pd.read_csv(\"interaction_5core.csv\")"
   ],
   "outputs": [],
   "execution_count": null
  },
  {
   "cell_type": "code",
   "id": "210be2bc",
   "metadata": {},
   "source": [
    "interaction_df.head(2)"
   ],
   "outputs": [],
   "execution_count": null
  },
  {
   "cell_type": "code",
   "id": "baf110fd",
   "metadata": {},
   "source": [
    "# copy & rename columns\n",
    "interaction_pos = interaction_df.loc[interaction_df.label==1].copy() # retain positive interactions\n",
    "interaction_pos.rename(columns={'hour':'c_hour_c','weekday':'c_weekday_c','period':'c_period_c','day':'c_day_f',\n",
    "                              'user_id':'original_user_id'}, inplace=True)"
   ],
   "outputs": [],
   "execution_count": null
  },
  {
   "cell_type": "code",
   "id": "2bf648ed",
   "metadata": {},
   "source": [
    "# split training, validation, and test sets.\n",
    "split_time1 = 5\n",
    "train = interaction_pos.loc[interaction_pos.c_day_f<=split_time1].copy()\n",
    "val_test = interaction_pos.loc[(interaction_pos.c_day_f>split_time1)].copy()\n",
    "val_test.sort_values(by='time',inplace=True)\n",
    "sessionbyTime = []\n",
    "last_s = -1\n",
    "for s in val_test.session_id:\n",
    "    if s!=last_s:\n",
    "        sessionbyTime.append(s)\n",
    "        last_s = s\n",
    "val = val_test.loc[val_test.session_id.isin(sessionbyTime[:len(sessionbyTime)//2])].copy()\n",
    "test = val_test.loc[val_test.session_id.isin(sessionbyTime[len(sessionbyTime)//2:])].copy()\n",
    "\n",
    "# Delete user&item in validation&test sets that not exist in training set\n",
    "train_u, train_i = set(train.original_user_id.unique()), set(train.news_id.unique())\n",
    "val_sel = val.loc[(val.original_user_id.isin(train_u))&(val.news_id.isin(train_i))].copy()\n",
    "test_sel = test.loc[(test.original_user_id.isin(train_u))&(test.news_id.isin(train_i))].copy()\n",
    "print(\"Train user: %d, item: %d\"%(len(train_u),len(train_i)))\n",
    "print(\"Validation user: %d, item:%d\"%(val_sel.original_user_id.nunique(),val_sel.news_id.nunique()))\n",
    "print(\"Test user: %d, item:%d\"%(test_sel.original_user_id.nunique(),test_sel.news_id.nunique()))"
   ],
   "outputs": [],
   "execution_count": null
  },
  {
   "cell_type": "code",
   "id": "d405fb74",
   "metadata": {},
   "source": [
    "# Assign ids for users and items (to generate continous ids)\n",
    "all_df = pd.concat([train,val_sel,test_sel],axis=0)\n",
    "user2newid_topk = dict(zip(sorted(all_df.original_user_id.unique()), \n",
    "                      range(1,all_df.original_user_id.nunique()+1)))\n",
    " \n",
    "for df in [train,val_sel,test_sel]:\n",
    "    df['user_id'] = df.original_user_id.apply(lambda x: user2newid_topk[x])\n",
    "\n",
    "item2newid_topk = dict(zip(sorted(all_df.news_id.unique()), \n",
    "                      range(1,all_df.news_id.nunique()+1)))\n",
    "for df in [train,val_sel,test_sel]:\n",
    "    df['item_id'] = df['news_id'].apply(lambda x: item2newid_topk[x])\n",
    "\n",
    "all_df['user_id'] = all_df.original_user_id.apply(lambda x: user2newid_topk[x])\n",
    "all_df['item_id'] = all_df['news_id'].apply(lambda x: item2newid_topk[x])\n",
    "\n",
    "json.dump(user2newid_topk,open(os.path.join(TOPK_PATH,\"user2newid.json\"),'w'))\n",
    "json.dump(item2newid_topk,open(os.path.join(TOPK_PATH,\"item2newid.json\"),'w'))"
   ],
   "outputs": [],
   "execution_count": null
  },
  {
   "cell_type": "code",
   "id": "d11cbd5c",
   "metadata": {
    "scrolled": true
   },
   "source": [
    "# generate negative items\n",
    "def generate_negative(data_df,all_items,clicked_item_set,random_seed,neg_item_num=99):\n",
    "    np.random.seed(random_seed)\n",
    "    neg_items = np.random.choice(all_items, (len(data_df),neg_item_num))\n",
    "    for i, uid in tqdm(enumerate(data_df['user_id'].values)):\n",
    "        user_clicked = clicked_item_set[uid]\n",
    "        for j in range(len(neg_items[i])):\n",
    "            while neg_items[i][j] in user_clicked|set(neg_items[i][:j]):\n",
    "                neg_items[i][j] = np.random.choice(all_items, 1)\n",
    "    return neg_items.tolist()\n",
    "\n",
    "clicked_item_set = dict()\n",
    "for user_id, seq_df in all_df.groupby('user_id'):\n",
    "    clicked_item_set[user_id] = set(seq_df['item_id'].values.tolist())\n",
    "all_items = all_df.item_id.unique()\n",
    "val_sel['neg_items'] = generate_negative(val_sel,all_items,clicked_item_set,random_seed=1)\n",
    "test_sel['neg_items'] = generate_negative(test_sel,all_items,clicked_item_set,random_seed=2)"
   ],
   "outputs": [],
   "execution_count": null
  },
  {
   "cell_type": "code",
   "id": "64009c53",
   "metadata": {},
   "source": [
    "select_columns = ['user_id','item_id','time','c_hour_c','c_weekday_c','c_period_c','c_day_f']\n",
    "train[select_columns].to_csv(os.path.join(TOPK_PATH,'train.csv'),sep=\"\\t\",index=False)\n",
    "val_sel[select_columns+['neg_items']].to_csv(os.path.join(TOPK_PATH,'dev.csv'),sep=\"\\t\",index=False)\n",
    "test_sel[select_columns+['neg_items']].to_csv(os.path.join(TOPK_PATH,'test.csv'),sep=\"\\t\",index=False)"
   ],
   "outputs": [],
   "execution_count": null
  },
  {
   "cell_type": "code",
   "id": "a2e0cafc",
   "metadata": {
    "scrolled": true
   },
   "source": [
    "# organize & save item metadata\n",
    "item_meta_train = pd.read_csv(os.path.join(RAW_PATH,'train',\"news.tsv\"),sep=\"\\t\",header=None)\n",
    "item_meta_train.columns = ['news_id','category','subcategory','title','abstract','url','title_entitiy','abstract_entity']\n",
    "item_select = item_meta_train.loc[item_meta_train.news_id.isin(interaction_pos.news_id.unique())].copy()\n",
    "item_select['item_id'] = item_select.news_id.apply(lambda x: item2newid_ctr[x])\n",
    "category2id = dict(zip(sorted(item_select.category.unique()),range(1,item_select.category.nunique()+1)))\n",
    "subcategory2id = dict(zip(sorted(item_select.subcategory.unique()),range(1,item_select.subcategory.nunique()+1)))\n",
    "item_select['i_category_c'] = item_select['category'].apply(lambda x: category2id[x])\n",
    "item_select['i_subcategory_c'] = item_select['subcategory'].apply(lambda x: subcategory2id[x])\n",
    "item_select[['item_id','i_category_c','i_subcategory_c']].to_csv(\n",
    "    os.path.join(TOPK_PATH,'item_meta.csv'),sep=\"\\t\",index=False)"
   ],
   "outputs": [],
   "execution_count": null
  }
 ],
 "metadata": {
  "kernelspec": {
   "display_name": "Python 3",
   "language": "python",
   "name": "python3"
  },
  "language_info": {
   "codemirror_mode": {
    "name": "ipython",
    "version": 3
   },
   "file_extension": ".py",
   "mimetype": "text/x-python",
   "name": "python",
   "nbconvert_exporter": "python",
   "pygments_lexer": "ipython3",
   "version": "3.6.13"
  }
 },
 "nbformat": 4,
 "nbformat_minor": 5
}
